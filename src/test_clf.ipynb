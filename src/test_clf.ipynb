{
 "cells": [
  {
   "cell_type": "code",
   "execution_count": 6,
   "id": "5dcb993c-8730-4bb6-99ef-9dfc5ecb3eb3",
   "metadata": {},
   "outputs": [],
   "source": [
    "import sys\n",
    "sys.path.insert(0, \"C:/Users/User/Documents/PhD/PrintedTrees\")"
   ]
  },
  {
   "cell_type": "code",
   "execution_count": 23,
   "id": "bf344be4-f4b8-4fb3-97af-595a228050da",
   "metadata": {},
   "outputs": [],
   "source": [
    "import pandas as pd\n",
    "import numpy as np\n",
    "from sklearn import tree\n",
    "from functools import partial\n",
    "from src import ALL_DATASETS, ALL_ACCURACY_METRICS, project_dir\n",
    "from src.datasets import get_data\n",
    "from src.utils import logging_cfg, get_area_lut, get_candidates\n",
    "from src.nsga2.objectives import calc_fitness, null_objective_function\n",
    "from src.nsga2.problem import Problem\n",
    "from src.nsga2.evolution import Evolution\n",
    "import argparse\n",
    "import logging\n",
    "import traceback"
   ]
  },
  {
   "cell_type": "code",
   "execution_count": 10,
   "id": "37ee91c2-b994-487b-864c-956ddb4ab207",
   "metadata": {},
   "outputs": [],
   "source": [
    "dataset = 'seeds'\n",
    "input_bits = 4"
   ]
  },
  {
   "cell_type": "code",
   "execution_count": 25,
   "id": "0d3483bc-f6d3-4700-aea5-1e19d4ba0c78",
   "metadata": {},
   "outputs": [
    {
     "name": "stdout",
     "output_type": "stream",
     "text": [
      "Training data: x (147, 8), y (147,)\n",
      "Test data: x (63, 8), y (63,)\n"
     ]
    },
    {
     "data": {
      "text/plain": [
       "DecisionTreeClassifier()"
      ]
     },
     "execution_count": 25,
     "metadata": {},
     "output_type": "execute_result"
    }
   ],
   "source": [
    "classifier = tree.DecisionTreeClassifier()\n",
    "x_train, x_test, y_train, y_test = get_data(dataset, input_bits=input_bits)\n",
    "print(f\"Training data: x {x_train.shape}, y {y_train.shape}\")\n",
    "print(f\"Test data: x {x_test.shape}, y {y_test.shape}\")\n",
    "classifier.fit(x_train,y_train)"
   ]
  },
  {
   "cell_type": "code",
   "execution_count": 28,
   "id": "33caf43a-dbb6-4db7-b2ff-10a5f6ee8a33",
   "metadata": {},
   "outputs": [
    {
     "name": "stdout",
     "output_type": "stream",
     "text": [
      "The binary tree structure has 5 nodes and has the following tree structure:\n",
      "\n",
      "node=0 is a split node: go to node 1 if X[:, 7] <= 0.75 else to node 4.\n",
      "\tnode=1 is a split node: go to node 2 if X[:, 7] <= 0.25 else to node 3.\n",
      "\t\tnode=2 is a leaf node.\n",
      "\t\tnode=3 is a leaf node.\n",
      "\tnode=4 is a leaf node.\n"
     ]
    }
   ],
   "source": [
    "n_nodes = classifier.tree_.node_count\n",
    "children_left = classifier.tree_.children_left\n",
    "children_right = classifier.tree_.children_right\n",
    "feature = classifier.tree_.feature\n",
    "threshold = classifier.tree_.threshold\n",
    "\n",
    "node_depth = np.zeros(shape=n_nodes, dtype=np.int64)\n",
    "is_leaves = np.zeros(shape=n_nodes, dtype=bool)\n",
    "stack = [(0, 0)]  # start with the root node id (0) and its depth (0)\n",
    "while len(stack) > 0:\n",
    "    # `pop` ensures each node is only visited once\n",
    "    node_id, depth = stack.pop()\n",
    "    node_depth[node_id] = depth\n",
    "\n",
    "    # If the left and right child of a node is not the same we have a split\n",
    "    # node\n",
    "    is_split_node = children_left[node_id] != children_right[node_id]\n",
    "    # If a split node, append left and right children and depth to `stack`\n",
    "    # so we can loop through them\n",
    "    if is_split_node:\n",
    "        stack.append((children_left[node_id], depth + 1))\n",
    "        stack.append((children_right[node_id], depth + 1))\n",
    "    else:\n",
    "        is_leaves[node_id] = True\n",
    "\n",
    "print(\n",
    "    \"The binary tree structure has {n} nodes and has \"\n",
    "    \"the following tree structure:\\n\".format(n=n_nodes)\n",
    ")\n",
    "for i in range(n_nodes):\n",
    "    if is_leaves[i]:\n",
    "        print(\n",
    "            \"{space}node={node} is a leaf node.\".format(\n",
    "                space=node_depth[i] * \"\\t\", node=i\n",
    "            )\n",
    "        )\n",
    "    else:\n",
    "        print(\n",
    "            \"{space}node={node} is a split node: \"\n",
    "            \"go to node {left} if X[:, {feature}] <= {threshold} \"\n",
    "            \"else to node {right}.\".format(\n",
    "                space=node_depth[i] * \"\\t\",\n",
    "                node=i,\n",
    "                left=children_left[i],\n",
    "                feature=feature[i],\n",
    "                threshold=threshold[i],\n",
    "                right=children_right[i],\n",
    "            )\n",
    "        )"
   ]
  },
  {
   "cell_type": "code",
   "execution_count": 34,
   "id": "700d4f91-39f0-47a4-ad40-da5e6a9ab64a",
   "metadata": {},
   "outputs": [
    {
     "name": "stdout",
     "output_type": "stream",
     "text": [
      "Thresholds: <class 'numpy.ndarray'>[0. 1. 2. 3. 4.]\n",
      "Nodes: 5\n",
      "Children left: [ 1  2 -1 -1 -1]\n",
      "Children right: [ 4  3 -1 -1 -1]\n",
      "Feature separator: [ 7  7 -2 -2 -2]\n",
      "Number of samples: [147  94  44  50  53]\n",
      "Impurity: [0.66472303 0.49796288 0.         0.         0.        ]\n"
     ]
    }
   ],
   "source": [
    "thresholds = classifier.tree_.threshold\n",
    "print(f\"Thresholds: {type(thresholds)}{thresholds}\")\n",
    "print(f\"Nodes: {classifier.tree_.node_count}\")\n",
    "print(f\"Children left: {classifier.tree_.children_left}\")\n",
    "print(f\"Children right: {classifier.tree_.children_right}\")\n",
    "print(f\"Feature separator: {classifier.tree_.feature}\")\n",
    "print(f\"Number of samples: {classifier.tree_.n_node_samples}\")\n",
    "print(f\"Impurity: {classifier.tree_.impurity}\")"
   ]
  },
  {
   "cell_type": "code",
   "execution_count": 30,
   "id": "94bbe43f-3406-476d-951b-8e4e334deae2",
   "metadata": {},
   "outputs": [
    {
     "data": {
      "text/plain": [
       "[Text(200.88000000000002, 181.2, 'X[7] <= 0.75\\ngini = 0.665\\nsamples = 147\\nvalue = [44, 50, 53]'),\n",
       " Text(133.92000000000002, 108.72, 'X[7] <= 0.25\\ngini = 0.498\\nsamples = 94\\nvalue = [44, 50, 0]'),\n",
       " Text(66.96000000000001, 36.23999999999998, 'gini = 0.0\\nsamples = 44\\nvalue = [44, 0, 0]'),\n",
       " Text(200.88000000000002, 36.23999999999998, 'gini = 0.0\\nsamples = 50\\nvalue = [0, 50, 0]'),\n",
       " Text(267.84000000000003, 108.72, 'gini = 0.0\\nsamples = 53\\nvalue = [0, 0, 53]')]"
      ]
     },
     "execution_count": 30,
     "metadata": {},
     "output_type": "execute_result"
    },
    {
     "data": {
      "image/png": "[encoded data removed]",
      "text/plain": [
       "<Figure size 432x288 with 1 Axes>"
      ]
     },
     "metadata": {
      "needs_background": "light"
     },
     "output_type": "display_data"
    }
   ],
   "source": [
    "tree.plot_tree(classifier)"
   ]
  },
  {
   "cell_type": "code",
   "execution_count": 32,
   "id": "d95d08aa-47ea-451d-9442-f1894377e0c4",
   "metadata": {},
   "outputs": [],
   "source": [
    "classifier.tree_.threshold[0] = 0  # list(range(5))"
   ]
  },
  {
   "cell_type": "code",
   "execution_count": 33,
   "id": "e39aa40c-ce92-4413-9245-2793c358a037",
   "metadata": {},
   "outputs": [
    {
     "data": {
      "text/plain": [
       "array([0., 1., 2., 3., 4.])"
      ]
     },
     "execution_count": 33,
     "metadata": {},
     "output_type": "execute_result"
    }
   ],
   "source": [
    "for i in range(5):\n",
    "    classifier.tree_.threshold[i] = i\n",
    "classifier.tree_.threshold"
   ]
  },
  {
   "cell_type": "code",
   "execution_count": null,
   "id": "4d64142e-9a35-4cbc-bb2f-17d0979a065a",
   "metadata": {},
   "outputs": [],
   "source": []
  }
 ],
 "metadata": {
  "kernelspec": {
   "display_name": "Python 3",
   "language": "python",
   "name": "python3"
  },
  "language_info": {
   "codemirror_mode": {
    "name": "ipython",
    "version": 3
   },
   "file_extension": ".py",
   "mimetype": "text/x-python",
   "name": "python",
   "nbconvert_exporter": "python",
   "pygments_lexer": "ipython3",
   "version": "3.8.8"
  }
 },
 "nbformat": 4,
 "nbformat_minor": 5
}
